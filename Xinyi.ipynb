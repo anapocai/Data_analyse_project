{
 "cells": [
  {
   "cell_type": "markdown",
   "metadata": {},
   "source": [
    "\n",
    "\n",
    "# Hypothsis: \n",
    "\n",
    "women tend to work harder than men in university (field of science) in order to have a place in the men dominated field.\n"
   ]
  },
  {
   "cell_type": "markdown",
   "metadata": {},
   "source": [
    "## The first aspect:\n",
    "\n",
    "After university, women tend to work better than men."
   ]
  },
  {
   "cell_type": "markdown",
   "metadata": {},
   "source": [
    "We load a file of dataset  about the acedamic performance of students in university."
   ]
  },
  {
   "cell_type": "markdown",
   "metadata": {},
   "source": [
    "All the programme of study:\n",
    "\n",
    "BCH - Biochemistry\n",
    "\n",
    "BLD - Building technology\n",
    "\n",
    "CEN - Computer Engineering\n",
    "\n",
    "CHE - Chemical Engineering\n",
    "\n",
    "CHM - Industrial Chemistry\n",
    "\n",
    "CIS - Computer Science\n",
    "\n",
    "CVE - Civil Engineering\n",
    "\n",
    "EEE - Electrical and Electronics Engineering\n",
    "\n",
    "ICE - Information and Communication Engineering\n",
    "\n",
    "MAT - Mathematics\n",
    "\n",
    "MCB - Microbiology\n",
    "\n",
    "MCE - Mechanical Engineering\n",
    "\n",
    "MIS - Management and Information System\n",
    "\n",
    "PET - Petroleum Engineering\n",
    "\n",
    "PHYE - Industrial Physics-Electronics and IT Applications\n",
    "\n",
    "PHYG - Industrial Physics-Applied Geophysics\n",
    "\n",
    "PHYR - Industrial Physics-Renewable Energy"
   ]
  },
  {
   "cell_type": "code",
   "execution_count": 118,
   "metadata": {},
   "outputs": [
    {
     "data": {
      "text/html": [
       "<div>\n",
       "<style scoped>\n",
       "    .dataframe tbody tr th:only-of-type {\n",
       "        vertical-align: middle;\n",
       "    }\n",
       "\n",
       "    .dataframe tbody tr th {\n",
       "        vertical-align: top;\n",
       "    }\n",
       "\n",
       "    .dataframe thead th {\n",
       "        text-align: right;\n",
       "    }\n",
       "</style>\n",
       "<table border=\"1\" class=\"dataframe\">\n",
       "  <thead>\n",
       "    <tr style=\"text-align: right;\">\n",
       "      <th></th>\n",
       "      <th>ID No</th>\n",
       "      <th>Prog Code</th>\n",
       "      <th>Gender</th>\n",
       "      <th>YoG</th>\n",
       "      <th>CGPA</th>\n",
       "      <th>CGPA100</th>\n",
       "      <th>CGPA200</th>\n",
       "      <th>CGPA300</th>\n",
       "      <th>CGPA400</th>\n",
       "      <th>SGPA</th>\n",
       "    </tr>\n",
       "  </thead>\n",
       "  <tbody>\n",
       "    <tr>\n",
       "      <th>0</th>\n",
       "      <td>42308</td>\n",
       "      <td>ICE</td>\n",
       "      <td>Female</td>\n",
       "      <td>2010</td>\n",
       "      <td>3.23</td>\n",
       "      <td>2.88</td>\n",
       "      <td>3.48</td>\n",
       "      <td>2.62</td>\n",
       "      <td>2.90</td>\n",
       "      <td>3.13</td>\n",
       "    </tr>\n",
       "    <tr>\n",
       "      <th>1</th>\n",
       "      <td>70978</td>\n",
       "      <td>BCH</td>\n",
       "      <td>Female</td>\n",
       "      <td>2010</td>\n",
       "      <td>3.58</td>\n",
       "      <td>3.25</td>\n",
       "      <td>4.26</td>\n",
       "      <td>3.37</td>\n",
       "      <td>3.47</td>\n",
       "      <td>3.02</td>\n",
       "    </tr>\n",
       "    <tr>\n",
       "      <th>2</th>\n",
       "      <td>31602</td>\n",
       "      <td>BCH</td>\n",
       "      <td>Male</td>\n",
       "      <td>2010</td>\n",
       "      <td>2.21</td>\n",
       "      <td>1.78</td>\n",
       "      <td>1.98</td>\n",
       "      <td>1.49</td>\n",
       "      <td>2.51</td>\n",
       "      <td>2.19</td>\n",
       "    </tr>\n",
       "    <tr>\n",
       "      <th>3</th>\n",
       "      <td>63847</td>\n",
       "      <td>BCH</td>\n",
       "      <td>Male</td>\n",
       "      <td>2010</td>\n",
       "      <td>2.70</td>\n",
       "      <td>2.67</td>\n",
       "      <td>2.44</td>\n",
       "      <td>2.00</td>\n",
       "      <td>2.35</td>\n",
       "      <td>3.19</td>\n",
       "    </tr>\n",
       "    <tr>\n",
       "      <th>4</th>\n",
       "      <td>30158</td>\n",
       "      <td>BCH</td>\n",
       "      <td>Female</td>\n",
       "      <td>2010</td>\n",
       "      <td>3.88</td>\n",
       "      <td>3.61</td>\n",
       "      <td>3.69</td>\n",
       "      <td>3.63</td>\n",
       "      <td>4.58</td>\n",
       "      <td>4.24</td>\n",
       "    </tr>\n",
       "  </tbody>\n",
       "</table>\n",
       "</div>"
      ],
      "text/plain": [
       "   ID No Prog Code  Gender   YoG  CGPA  CGPA100  CGPA200  CGPA300  CGPA400  \\\n",
       "0  42308       ICE  Female  2010  3.23     2.88     3.48     2.62     2.90   \n",
       "1  70978       BCH  Female  2010  3.58     3.25     4.26     3.37     3.47   \n",
       "2  31602       BCH    Male  2010  2.21     1.78     1.98     1.49     2.51   \n",
       "3  63847       BCH    Male  2010  2.70     2.67     2.44     2.00     2.35   \n",
       "4  30158       BCH  Female  2010  3.88     3.61     3.69     3.63     4.58   \n",
       "\n",
       "   SGPA  \n",
       "0  3.13  \n",
       "1  3.02  \n",
       "2  2.19  \n",
       "3  3.19  \n",
       "4  4.24  "
      ]
     },
     "execution_count": 118,
     "metadata": {},
     "output_type": "execute_result"
    }
   ],
   "source": [
    "import pandas as pd\n",
    "\n",
    "score_data = pd.read_csv(\"academic_performance_dataset_V2.csv\")\n",
    "\n",
    "score_data.head()"
   ]
  },
  {
   "cell_type": "markdown",
   "metadata": {},
   "source": [
    "Since there are 17 different kinds of study Program, in order to simplize the analysis, we classify them into the following categories:\n",
    "\n",
    "Biology: BCH, MCB\n",
    "\n",
    "Math: MAT\n",
    "\n",
    "Physics: PHYG, PHYR, PHYE\n",
    "\n",
    "Chemistry: CHE, CHM, PET\n",
    "\n",
    "Technology: BLD, MIS\n",
    "\n",
    "Computer_science: CEN, CIS, ICE\n",
    "\n",
    "Mechanics: CVE, MCE, BLD"
   ]
  },
  {
   "cell_type": "code",
   "execution_count": 119,
   "metadata": {},
   "outputs": [
    {
     "data": {
      "text/html": [
       "<div>\n",
       "<style scoped>\n",
       "    .dataframe tbody tr th:only-of-type {\n",
       "        vertical-align: middle;\n",
       "    }\n",
       "\n",
       "    .dataframe tbody tr th {\n",
       "        vertical-align: top;\n",
       "    }\n",
       "\n",
       "    .dataframe thead th {\n",
       "        text-align: right;\n",
       "    }\n",
       "</style>\n",
       "<table border=\"1\" class=\"dataframe\">\n",
       "  <thead>\n",
       "    <tr style=\"text-align: right;\">\n",
       "      <th></th>\n",
       "      <th>ID No</th>\n",
       "      <th>Prog Code</th>\n",
       "      <th>Gender</th>\n",
       "      <th>YoG</th>\n",
       "      <th>CGPA</th>\n",
       "      <th>CGPA100</th>\n",
       "      <th>CGPA200</th>\n",
       "      <th>CGPA300</th>\n",
       "      <th>CGPA400</th>\n",
       "      <th>SGPA</th>\n",
       "      <th>Program</th>\n",
       "    </tr>\n",
       "  </thead>\n",
       "  <tbody>\n",
       "    <tr>\n",
       "      <th>0</th>\n",
       "      <td>42308</td>\n",
       "      <td>ICE</td>\n",
       "      <td>Female</td>\n",
       "      <td>2010</td>\n",
       "      <td>3.23</td>\n",
       "      <td>2.88</td>\n",
       "      <td>3.48</td>\n",
       "      <td>2.62</td>\n",
       "      <td>2.90</td>\n",
       "      <td>3.13</td>\n",
       "      <td>computer_science</td>\n",
       "    </tr>\n",
       "    <tr>\n",
       "      <th>1</th>\n",
       "      <td>70978</td>\n",
       "      <td>BCH</td>\n",
       "      <td>Female</td>\n",
       "      <td>2010</td>\n",
       "      <td>3.58</td>\n",
       "      <td>3.25</td>\n",
       "      <td>4.26</td>\n",
       "      <td>3.37</td>\n",
       "      <td>3.47</td>\n",
       "      <td>3.02</td>\n",
       "      <td>biology</td>\n",
       "    </tr>\n",
       "    <tr>\n",
       "      <th>2</th>\n",
       "      <td>31602</td>\n",
       "      <td>BCH</td>\n",
       "      <td>Male</td>\n",
       "      <td>2010</td>\n",
       "      <td>2.21</td>\n",
       "      <td>1.78</td>\n",
       "      <td>1.98</td>\n",
       "      <td>1.49</td>\n",
       "      <td>2.51</td>\n",
       "      <td>2.19</td>\n",
       "      <td>biology</td>\n",
       "    </tr>\n",
       "    <tr>\n",
       "      <th>3</th>\n",
       "      <td>63847</td>\n",
       "      <td>BCH</td>\n",
       "      <td>Male</td>\n",
       "      <td>2010</td>\n",
       "      <td>2.70</td>\n",
       "      <td>2.67</td>\n",
       "      <td>2.44</td>\n",
       "      <td>2.00</td>\n",
       "      <td>2.35</td>\n",
       "      <td>3.19</td>\n",
       "      <td>biology</td>\n",
       "    </tr>\n",
       "    <tr>\n",
       "      <th>4</th>\n",
       "      <td>30158</td>\n",
       "      <td>BCH</td>\n",
       "      <td>Female</td>\n",
       "      <td>2010</td>\n",
       "      <td>3.88</td>\n",
       "      <td>3.61</td>\n",
       "      <td>3.69</td>\n",
       "      <td>3.63</td>\n",
       "      <td>4.58</td>\n",
       "      <td>4.24</td>\n",
       "      <td>biology</td>\n",
       "    </tr>\n",
       "  </tbody>\n",
       "</table>\n",
       "</div>"
      ],
      "text/plain": [
       "   ID No Prog Code  Gender   YoG  CGPA  CGPA100  CGPA200  CGPA300  CGPA400  \\\n",
       "0  42308       ICE  Female  2010  3.23     2.88     3.48     2.62     2.90   \n",
       "1  70978       BCH  Female  2010  3.58     3.25     4.26     3.37     3.47   \n",
       "2  31602       BCH    Male  2010  2.21     1.78     1.98     1.49     2.51   \n",
       "3  63847       BCH    Male  2010  2.70     2.67     2.44     2.00     2.35   \n",
       "4  30158       BCH  Female  2010  3.88     3.61     3.69     3.63     4.58   \n",
       "\n",
       "   SGPA           Program  \n",
       "0  3.13  computer_science  \n",
       "1  3.02           biology  \n",
       "2  2.19           biology  \n",
       "3  3.19           biology  \n",
       "4  4.24           biology  "
      ]
     },
     "execution_count": 119,
     "metadata": {},
     "output_type": "execute_result"
    }
   ],
   "source": [
    "def reclassify_program(old_code):\n",
    "    if old_code == \"BCH\" or old_code ==\"MCB\":\n",
    "        return \"biology\"\n",
    "    if old_code == \"MAT\":\n",
    "        return \"math\"\n",
    "    if old_code == \"PHYG\" or old_code ==\"PHYR\" or old_code ==\"PHYE\":\n",
    "        return \"physcis\"\n",
    "    if old_code == \"CHE\" or old_code == \"CHM\" or old_code ==\"PET\":\n",
    "        return \"chemistry\"\n",
    "    if old_code == \"BLD\" or old_code == \"MIS\":\n",
    "        return \"tech\"\n",
    "    if old_code == \"CEN\" or old_code ==\"CIS\" or old_code ==\"ICE\":\n",
    "        return \"computer_science\"\n",
    "    if old_code == \"CVE\" or old_code ==\"MCE\" or old_code ==\"BLD\":\n",
    "        return \"mechanics\"\n",
    "\n",
    "score_data[\"Program\"] = score_data[\"Prog Code\"].apply(reclassify_program)    \n",
    "\n",
    "score_data.head()"
   ]
  },
  {
   "cell_type": "markdown",
   "metadata": {},
   "source": [
    "Let's count the number of males and females in general."
   ]
  },
  {
   "cell_type": "code",
   "execution_count": 120,
   "metadata": {},
   "outputs": [
    {
     "data": {
      "text/plain": [
       "Gender\n",
       "Female    1093\n",
       "Male      1953\n",
       "Name: Gender, dtype: int64"
      ]
     },
     "execution_count": 120,
     "metadata": {},
     "output_type": "execute_result"
    }
   ],
   "source": [
    "score_data.groupby(\"Gender\")[\"Gender\"].count()"
   ]
  },
  {
   "cell_type": "code",
   "execution_count": 121,
   "metadata": {},
   "outputs": [],
   "source": [
    "nb_female = 1093\n",
    "nb_male = 1953"
   ]
  },
  {
   "cell_type": "markdown",
   "metadata": {},
   "source": [
    "Let's count the number of students in every program."
   ]
  },
  {
   "cell_type": "code",
   "execution_count": 122,
   "metadata": {},
   "outputs": [
    {
     "data": {
      "text/plain": [
       "Program\n",
       "biology             312\n",
       "chemistry           531\n",
       "computer_science    824\n",
       "math                 61\n",
       "mechanics           351\n",
       "physcis             145\n",
       "tech                404\n",
       "Name: Program, dtype: int64"
      ]
     },
     "execution_count": 122,
     "metadata": {},
     "output_type": "execute_result"
    }
   ],
   "source": [
    "score_data.groupby(\"Program\")[\"Program\"].count()\n"
   ]
  },
  {
   "cell_type": "markdown",
   "metadata": {},
   "source": [
    "Let's count the number of students enrolled in school each year."
   ]
  },
  {
   "cell_type": "code",
   "execution_count": 123,
   "metadata": {},
   "outputs": [
    {
     "data": {
      "text/plain": [
       "YoG\n",
       "2010    470\n",
       "2011    471\n",
       "2012    714\n",
       "2013    811\n",
       "2014    580\n",
       "Name: YoG, dtype: int64"
      ]
     },
     "execution_count": 123,
     "metadata": {},
     "output_type": "execute_result"
    }
   ],
   "source": [
    "score_data.groupby(\"YoG\")[\"YoG\"].count()"
   ]
  },
  {
   "cell_type": "markdown",
   "metadata": {},
   "source": [
    "To have an overall view, we compare the GPA (At the end of university study) of females and males."
   ]
  },
  {
   "cell_type": "code",
   "execution_count": 124,
   "metadata": {},
   "outputs": [
    {
     "data": {
      "text/plain": [
       "Gender\n",
       "Female    3.139222\n",
       "Male      3.108689\n",
       "Name: SGPA, dtype: float64"
      ]
     },
     "execution_count": 124,
     "metadata": {},
     "output_type": "execute_result"
    }
   ],
   "source": [
    "score_data.groupby(\"Gender\")[\"SGPA\"].mean()"
   ]
  },
  {
   "cell_type": "markdown",
   "metadata": {},
   "source": [
    "We find that females do slightly better than males in general."
   ]
  },
  {
   "cell_type": "markdown",
   "metadata": {},
   "source": [
    "Now let's see what happens in each year."
   ]
  },
  {
   "cell_type": "code",
   "execution_count": 125,
   "metadata": {},
   "outputs": [
    {
     "data": {
      "text/plain": [
       "YoG   Gender\n",
       "2010  Female    3.298980\n",
       "      Male      3.246440\n",
       "2011  Female    3.132488\n",
       "      Male      3.032970\n",
       "2012  Female    3.179423\n",
       "      Male      3.148040\n",
       "2013  Female    3.076324\n",
       "      Male      3.058071\n",
       "2014  Female    3.065311\n",
       "      Male      3.068437\n",
       "Name: SGPA, dtype: float64"
      ]
     },
     "execution_count": 125,
     "metadata": {},
     "output_type": "execute_result"
    }
   ],
   "source": [
    "score_data.groupby([\"YoG\",\"Gender\"])[\"SGPA\"].mean()"
   ]
  },
  {
   "cell_type": "code",
   "execution_count": 126,
   "metadata": {},
   "outputs": [],
   "source": [
    "average_score_every_year = score_data.groupby([\"YoG\",\"Gender\"])[\"SGPA\"].mean().reset_index()\n",
    "average_female_score_every_year=average_score_every_year[average_score_every_year[\"Gender\"]==\"Female\"]\n",
    "average_male_score_every_year=average_score_every_year[average_score_every_year[\"Gender\"]==\"Male\"]"
   ]
  },
  {
   "cell_type": "markdown",
   "metadata": {},
   "source": [
    "Let's visulaize it!"
   ]
  },
  {
   "cell_type": "code",
   "execution_count": 127,
   "metadata": {},
   "outputs": [
    {
     "data": {
      "text/plain": [
       "Text(0.5, 1.0, 'The average GPA of male and female change with the year enrolled in university')"
      ]
     },
     "execution_count": 127,
     "metadata": {},
     "output_type": "execute_result"
    },
    {
     "data": {
      "image/png": "[encoded data removed]",
      "text/plain": [
       "<Figure size 400x400 with 1 Axes>"
      ]
     },
     "metadata": {},
     "output_type": "display_data"
    }
   ],
   "source": [
    "import matplotlib.pyplot as plt\n",
    "import numpy as np\n",
    "\n",
    "plt.figure(figsize=(4,4))\n",
    "plt.plot( average_female_score_every_year[\"YoG\"], average_female_score_every_year[\"SGPA\"],color = \"b\",label = \"Female\")\n",
    "plt.plot(average_male_score_every_year[\"YoG\"], average_male_score_every_year[\"SGPA\"],color = \"r\",label = \"Male\")\n",
    "plt.xlabel(\"Year enrolled in university\")\n",
    "plt.ylabel(\"Average GPA\")\n",
    "plt.legend()\n",
    "plt.title(\"The average GPA of male and female change with the year enrolled in university\")\n"
   ]
  },
  {
   "cell_type": "markdown",
   "metadata": {},
   "source": [
    "From the graph, we can see that every year women are slightly better then men or do equally well."
   ]
  },
  {
   "cell_type": "markdown",
   "metadata": {},
   "source": [
    "Now let's see how's evryone's GPA."
   ]
  },
  {
   "cell_type": "code",
   "execution_count": 128,
   "metadata": {},
   "outputs": [
    {
     "data": {
      "text/plain": [
       "Text(0.5, 1.0, 'percentage of students(female and male) with differnt GPA')"
      ]
     },
     "execution_count": 128,
     "metadata": {},
     "output_type": "execute_result"
    },
    {
     "data": {
      "image/png": "[encoded data removed]",
      "text/plain": [
       "<Figure size 600x600 with 1 Axes>"
      ]
     },
     "metadata": {},
     "output_type": "display_data"
    }
   ],
   "source": [
    "\n",
    "def classify_GPA(gpa):\n",
    "    if gpa > 4.5: return \"GPA > 4.5\"\n",
    "    if gpa <= 4.5 and gpa > 3.5: return \"3.5 < GPA <= 4.5\" \n",
    "    if gpa <= 3.5 and gpa > 2.5: return \"2.5 < GPA <= 3.5\"\n",
    "    if gpa <= 2.5: return \"GPA <=2.5\"\n",
    "   \n",
    "\n",
    "score_data[\"SGPA_separate\"] = score_data[\"SGPA\"].apply(classify_GPA)\n",
    "\n",
    "\n",
    "score_data_female = score_data[score_data[\"Gender\"]==\"Female\"].groupby(\"SGPA_separate\").count().reset_index()\n",
    "\n",
    "\n",
    "score_data_male = score_data[score_data[\"Gender\"]==\"Male\"].groupby(\"SGPA_separate\").count().reset_index()\n",
    "\n",
    "plt.figure(figsize=(6,6))\n",
    "plt.plot(score_data_female[\"SGPA_separate\"], score_data_female[\"ID No\"]/nb_female,color = \"b\",label = \"Female\")\n",
    "plt.plot(score_data_male[\"SGPA_separate\"], score_data_male[\"ID No\"]/nb_male,color = \"r\",label = \"Male\")\n",
    "plt.xlabel(\"GPA\")\n",
    "plt.ylabel(\"percentage of students\")\n",
    "plt.legend()\n",
    "plt.title(\"percentage of students(female and male) with differnt GPA\")"
   ]
  },
  {
   "cell_type": "markdown",
   "metadata": {},
   "source": [
    "From the graph we can see that there's not so much difference on the GPA distribution between men and women.\n",
    "\n",
    "\n",
    "\n",
    "\n",
    "\n",
    "\n",
    "\n"
   ]
  },
  {
   "cell_type": "markdown",
   "metadata": {},
   "source": [
    "Now let's move to the different study program."
   ]
  },
  {
   "cell_type": "markdown",
   "metadata": {},
   "source": [
    "First let's count the number of females and males in every study program."
   ]
  },
  {
   "cell_type": "code",
   "execution_count": 130,
   "metadata": {},
   "outputs": [
    {
     "data": {
      "text/plain": [
       "Program           Gender\n",
       "biology           Female    243\n",
       "                  Male       69\n",
       "chemistry         Female    210\n",
       "                  Male      321\n",
       "computer_science  Female    287\n",
       "                  Male      537\n",
       "math              Female     27\n",
       "                  Male       34\n",
       "mechanics         Female     40\n",
       "                  Male      311\n",
       "physcis           Female     24\n",
       "                  Male      121\n",
       "tech              Female    181\n",
       "                  Male      223\n",
       "Name: ID No, dtype: int64"
      ]
     },
     "execution_count": 130,
     "metadata": {},
     "output_type": "execute_result"
    }
   ],
   "source": [
    "score_data.groupby([\"Program\",\"Gender\"])[\"ID No\"].count()"
   ]
  },
  {
   "cell_type": "code",
   "execution_count": null,
   "metadata": {},
   "outputs": [],
   "source": []
  },
  {
   "cell_type": "code",
   "execution_count": 131,
   "metadata": {},
   "outputs": [],
   "source": [
    "score_data_biology = score_data[score_data[\"Program\"]==\"biology\"]\n",
    "score_data_chemistry = score_data[score_data[\"Program\"]==\"chemistry\"]\n",
    "score_data_computer_science = score_data[score_data[\"Program\"]==\"computer_science\"]\n",
    "score_data_math = score_data[score_data[\"Program\"]==\"math\"]\n",
    "score_data_mechanics = score_data[score_data[\"Program\"]==\"mechanics\"]\n",
    "score_data_physics = score_data[score_data[\"Program\"]==\"physcis\"]\n",
    "score_data_tech = score_data[score_data[\"Program\"]==\"tech\"]"
   ]
  },
  {
   "cell_type": "markdown",
   "metadata": {},
   "source": [
    "# The second aspect:\n",
    "\n",
    "Women makes more progress than men in university (compared with high school)."
   ]
  }
 ],
 "metadata": {
  "kernelspec": {
   "display_name": "data_visual",
   "language": "python",
   "name": "python3"
  },
  "language_info": {
   "codemirror_mode": {
    "name": "ipython",
    "version": 3
   },
   "file_extension": ".py",
   "mimetype": "text/x-python",
   "name": "python",
   "nbconvert_exporter": "python",
   "pygments_lexer": "ipython3",
   "version": "3.13.2"
  }
 },
 "nbformat": 4,
 "nbformat_minor": 2
}
